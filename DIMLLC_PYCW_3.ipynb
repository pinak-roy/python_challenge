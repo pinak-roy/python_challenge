{
  "nbformat": 4,
  "nbformat_minor": 0,
  "metadata": {
    "colab": {
      "provenance": []
    },
    "kernelspec": {
      "name": "python3",
      "display_name": "Python 3"
    },
    "language_info": {
      "name": "python"
    }
  },
  "cells": [
    {
      "cell_type": "code",
      "execution_count": null,
      "metadata": {
        "id": "z5wDfwfq3Wfe"
      },
      "outputs": [],
      "source": [
        "'''Create a function that takes a number as an argument and returns “Fizz”, “Buzz” or “FizzBuzz”.'''\n",
        "def fizzbuzz(n):\n",
        "  if n % 3 == 0 and n % 5 == 0:\n",
        "    print(\"FizzBuzz\")\n",
        "  elif n % 3 == 0:\n",
        "    print(\"Fizz\")\n",
        "  elif n % 5 == 0:\n",
        "    print(\"Buzz\")\n",
        "  else:\n",
        "    return n"
      ]
    },
    {
      "cell_type": "code",
      "source": [
        "'''Create a function that takes two arguments: the original price and the discount\n",
        "percentage as integers and returns the final price after the discount.'''\n",
        "def discount_price(p,d):\n",
        "  total_discount = p*(d/100)\n",
        "  final_price = p-total_discount\n",
        "  return final_price"
      ],
      "metadata": {
        "id": "f9h8KuX347PL"
      },
      "execution_count": null,
      "outputs": []
    },
    {
      "cell_type": "code",
      "source": [
        "'''Create a function that takes the age in years and returns the age in days.'''\n",
        "def age_in_days(age):\n",
        "  days = 365*age\n",
        "  return days\n"
      ],
      "metadata": {
        "id": "qa3MP8rio4zD"
      },
      "execution_count": null,
      "outputs": []
    },
    {
      "cell_type": "code",
      "source": [
        "'''Create a function that takes an angle in radians and returns the\n",
        "corresponding angle in degrees rounded to one decimal place.'''\n",
        "def rad_to_deg(rad):\n",
        "  pi = 22/7\n",
        "  deg = round(rad*180/pi, 1)\n",
        "  return deg\n"
      ],
      "metadata": {
        "id": "OCWt7Zz_qR2s"
      },
      "execution_count": null,
      "outputs": []
    },
    {
      "cell_type": "code",
      "source": [
        "import datetime\n",
        "def get_days(first_date, last_date):\n",
        "  first_date_string = datetime.datetime.strptime(first_date, '%Y-%m-%d')\n",
        "  last_date_string = datetime.datetime.strptime(first_date, '%Y-%m-%d')\n",
        "  diff_days = (last_date_string-first_date_string).days\n",
        "  return diff_days\n"
      ],
      "metadata": {
        "id": "dM_d6qTDt_0O"
      },
      "execution_count": null,
      "outputs": []
    },
    {
      "cell_type": "code",
      "source": [],
      "metadata": {
        "id": "oxMSswDMxsWB"
      },
      "execution_count": null,
      "outputs": []
    }
  ]
}